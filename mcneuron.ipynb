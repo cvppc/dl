{
 "cells": [
  {
   "cell_type": "code",
   "execution_count": 1,
   "metadata": {},
   "outputs": [
    {
     "name": "stdout",
     "output_type": "stream",
     "text": [
      "0\n",
      "0\n",
      "0\n",
      "1\n"
     ]
    }
   ],
   "source": [
    "#AND :\n",
    "import numpy as np\n",
    "def nparray(a,b):\n",
    "  a=np.array([0,0,1,1])\n",
    "  b=np.array([0,1,0,1])\n",
    "  sum=np.add(a,b)\n",
    "  threshold=2\n",
    "  for i in sum:\n",
    "    if i>=threshold:\n",
    "      print(1)\n",
    "    else:\n",
    "      print(0) \n",
    "a=[0,0,1,1]\n",
    "b=[0,1,0,1]       \n",
    "nparray(a,b) \n"
   ]
  },
  {
   "cell_type": "code",
   "execution_count": 2,
   "metadata": {},
   "outputs": [
    {
     "name": "stdout",
     "output_type": "stream",
     "text": [
      "0\n",
      "1\n",
      "1\n",
      "1\n"
     ]
    }
   ],
   "source": [
    "#OR:\n",
    "import numpy as np\n",
    "def nparray(a,b):\n",
    "  a=np.array([0,0,1,1])\n",
    "  b=np.array([0,1,0,1])\n",
    "  sum=np.add(a,b)\n",
    "  threshold=1\n",
    "  for i in sum:\n",
    "    if i>=threshold:\n",
    "      print(1)\n",
    "    else:\n",
    "      print(0) \n",
    "a=[0,0,1,1]\n",
    "b=[0,1,0,1]       \n",
    "nparray(a,b)\n"
   ]
  }
 ],
 "metadata": {
  "kernelspec": {
   "display_name": "Python 3",
   "language": "python",
   "name": "python3"
  },
  "language_info": {
   "codemirror_mode": {
    "name": "ipython",
    "version": 3
   },
   "file_extension": ".py",
   "mimetype": "text/x-python",
   "name": "python",
   "nbconvert_exporter": "python",
   "pygments_lexer": "ipython3",
   "version": "3.8.10"
  }
 },
 "nbformat": 4,
 "nbformat_minor": 2
}
