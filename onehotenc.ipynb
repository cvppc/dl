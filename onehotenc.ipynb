{
 "cells": [
  {
   "cell_type": "code",
   "execution_count": 6,
   "metadata": {},
   "outputs": [
    {
     "name": "stdout",
     "output_type": "stream",
     "text": [
      "     category   moons  Jupiter  Neptune  confirmed  fourteen  has  known  \\\n",
      "0     Jupiter       0        1        0          0         0    0      0   \n",
      "1         has       0        0        0          0         0    1      0   \n",
      "2     seventy       0        0        0          0         0    0      0   \n",
      "3        nine       0        0        0          0         0    0      0   \n",
      "4       known       0        0        0          0         0    0      1   \n",
      "5       moons       1        0        0          0         0    0      0   \n",
      "6     Neptune       0        0        1          0         0    0      0   \n",
      "7         has       0        0        0          0         0    1      0   \n",
      "8    fourteen       0        0        0          0         1    0      0   \n",
      "9   confirmed       0        0        0          1         0    0      0   \n",
      "10      moons       0        0        0          0         0    0      0   \n",
      "\n",
      "    moons  nine  seventy  \n",
      "0       0     0        0  \n",
      "1       0     0        0  \n",
      "2       0     0        1  \n",
      "3       0     1        0  \n",
      "4       0     0        0  \n",
      "5       0     0        0  \n",
      "6       0     0        0  \n",
      "7       0     0        0  \n",
      "8       0     0        0  \n",
      "9       0     0        0  \n",
      "10      1     0        0  \n"
     ]
    }
   ],
   "source": [
    "import pandas as pd\n",
    "\n",
    "# Sample data\n",
    "samples = {'category':['Jupiter','has','seventy','nine','known',' moons', 'Neptune', 'has', 'fourteen', 'confirmed', 'moons']}\n",
    "# data = {'category': ['A', 'B', 'C', 'A', 'C']}\n",
    "df = pd.DataFrame(samples)\n",
    "\n",
    "# Perform one-hot encoding\n",
    "one_hot_encoded = pd.get_dummies(df['category'])\n",
    "\n",
    "# Concatenate the one-hot encoded values to the original DataFrame\n",
    "result = pd.concat([df, one_hot_encoded], axis=1)\n",
    "\n",
    "print(result)\n",
    "\n",
    "\n",
    "\n",
    "# fakecode\n",
    "# import numpy as np\n",
    "# samples = {'Jupiter has seventy nine known moons', 'Neptune has fourteen confirmed moons'}\n",
    "# token_index = []\n",
    "# counter = 0\n",
    "# for sample in samples:                                      \n",
    "#   for considered_word in sample.split():\n",
    "#     if considered_word not in token_index:\n",
    "# token_index\n",
    "# from numpy import array\n",
    "# from numpy import argmax\n",
    "# from sklearn.preprocessing import LabelEncoder\n",
    "# from sklearn.preprocessing import OneHotEncoder\n",
    "# data = token_index\n",
    "# values = array(data)\n",
    "# print(values)\n",
    "# label_encoder = LabelEncoder()\n",
    "# integer_encoded = label_encoder.fit_transform(values)\n",
    "# print(integer_encoded)\n",
    "# onehot_encoder = OneHotEncoder(sparse=False)\n",
    "# integer_encoded = integer_encoded.reshape(len(integer_encoded), 1)\n",
    "# onehot_encoded = onehot_encoder.fit_transform(integer_encoded)\n",
    "# print(onehot_encoded)\n",
    "# inverted = label_encoder.inverse_transform([argmax(onehot_encoded[0, :])])\n",
    "# print(inverted)\n",
    "# model.fit(train_it, steps_per_epoch=12, validation_data=valid_it, validation_steps=4, epochs=10)\n"
   ]
  }
 ],
 "metadata": {
  "kernelspec": {
   "display_name": "Python 3",
   "language": "python",
   "name": "python3"
  },
  "language_info": {
   "codemirror_mode": {
    "name": "ipython",
    "version": 3
   },
   "file_extension": ".py",
   "mimetype": "text/x-python",
   "name": "python",
   "nbconvert_exporter": "python",
   "pygments_lexer": "ipython3",
   "version": "3.8.10"
  }
 },
 "nbformat": 4,
 "nbformat_minor": 2
}
